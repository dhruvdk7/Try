{
  "nbformat": 4,
  "nbformat_minor": 0,
  "metadata": {
    "colab": {
      "name": "playflix_train.ipynb",
      "provenance": [],
      "collapsed_sections": []
    },
    "kernelspec": {
      "name": "python3",
      "display_name": "Python 3"
    },
    "language_info": {
      "name": "python"
    },
    "accelerator": "GPU"
  },
  "cells": [
    {
      "cell_type": "code",
      "metadata": {
        "colab": {
          "base_uri": "https://localhost:8080/"
        },
        "id": "eoYbbaIsOKhI",
        "outputId": "6afb2016-7129-4548-df6d-f46800c1e7ad"
      },
      "source": [
        "from google.colab import drive\n",
        "drive.mount('/content/drive')"
      ],
      "execution_count": null,
      "outputs": [
        {
          "output_type": "stream",
          "text": [
            "Mounted at /content/drive\n"
          ],
          "name": "stdout"
        }
      ]
    },
    {
      "cell_type": "code",
      "metadata": {
        "id": "BCeL6CHdOOnN"
      },
      "source": [
        "# this all are the librabries needed for training\n",
        "import tensorflow.keras.layers as Layers\n",
        "import tensorflow.keras.activations as Actications\n",
        "import tensorflow.keras.models as Models\n",
        "import tensorflow.keras.optimizers as Optimizer\n",
        "\n",
        "import tensorflow.keras.utils as Utils\n",
        "from keras.utils.vis_utils import model_to_dot\n",
        "import os\n",
        "import sklearn.metrics\n",
        "import matplotlib.pyplot as plot\n",
        "import cv2\n",
        "import numpy as np\n",
        "from sklearn.utils import shuffle\n",
        "from sklearn.metrics import confusion_matrix as CM\n",
        "from random import randint\n",
        "from IPython.display import SVG\n",
        "import matplotlib.gridspec as gridspec\n",
        "\n",
        "from google.colab.patches import cv2_imshow"
      ],
      "execution_count": null,
      "outputs": []
    },
    {
      "cell_type": "code",
      "metadata": {
        "colab": {
          "base_uri": "https://localhost:8080/"
        },
        "id": "PtLKcTS5Ogwy",
        "outputId": "9f77c582-5a43-45c5-890c-fd7433648080"
      },
      "source": [
        "# this function is used to get the celebrities name in the folder\n",
        "img_dir='/content/drive/MyDrive/cropped1/train'\n",
        "c=[]\n",
        "count=0\n",
        "for file in os.listdir(img_dir):\n",
        "  c.append(file)\n",
        "  # if(file.exist()):\n",
        "    # c[file]=count\n",
        "    # count=count+1}\n",
        "    # print(type(file))\n",
        "print(c)\n",
        "len(c)"
      ],
      "execution_count": null,
      "outputs": [
        {
          "output_type": "stream",
          "text": [
            "['salmankhan', 'sharukhkhan', 'akshaykumar']\n"
          ],
          "name": "stdout"
        },
        {
          "output_type": "execute_result",
          "data": {
            "text/plain": [
              "3"
            ]
          },
          "metadata": {
            "tags": []
          },
          "execution_count": 5
        }
      ]
    },
    {
      "cell_type": "code",
      "metadata": {
        "id": "POj-XmfmOkWb"
      },
      "source": [
        "# this folder is use to get the images for training\n",
        "def get_images(directory):\n",
        "\n",
        "  Images=[]\n",
        "  Labels=[]\n",
        "  label=0\n",
        "\n",
        "  for labels in os.listdir(directory):\n",
        "\n",
        "\n",
        "    for i in range(0,len(c)):\n",
        "\n",
        "\n",
        "      if labels==c[i]:\n",
        "\n",
        "        label=i\n",
        "      \n",
        "      \n",
        "    for image_file in os.listdir(directory+labels): \n",
        "      try:\n",
        "        image = cv2.imread(directory+labels+r'/'+image_file) #Reading the image (OpenCV)\n",
        "        image = cv2.resize(image,(150,150)) #Resize the image, Some images are different sizes. (Resizing is very Important)\n",
        "        Images.append(image)\n",
        "        Labels.append(label)\n",
        "      except:\n",
        "        break\n",
        "  return shuffle(Images,Labels,random_state=817328462) #Shuffle the dataset you just prepared.\n",
        "\n",
        "      \n"
      ],
      "execution_count": null,
      "outputs": []
    },
    {
      "cell_type": "code",
      "metadata": {
        "id": "-5TOvWewOoH6"
      },
      "source": [
        "Images,Labels = get_images('/content/drive/MyDrive/cropped1/train/') #Extract the training images from the folders.\n"
      ],
      "execution_count": null,
      "outputs": []
    },
    {
      "cell_type": "code",
      "metadata": {
        "colab": {
          "base_uri": "https://localhost:8080/"
        },
        "id": "jFp4rdaXOsNG",
        "outputId": "0ed63b02-7f12-4e17-817c-9d11e367063e"
      },
      "source": [
        "Images = np.array(Images) #converting the list of images to numpy array.\n",
        "Labels = np.array(Labels)\n",
        "\n",
        "print(\"Shape of Images:\",Images.shape)\n",
        "print(\"Shape of Labels:\",Labels.shape)\n",
        "\n"
      ],
      "execution_count": null,
      "outputs": [
        {
          "output_type": "stream",
          "text": [
            "Shape of Images: (861, 150, 150, 3)\n",
            "Shape of Labels: (861,)\n"
          ],
          "name": "stdout"
        }
      ]
    },
    {
      "cell_type": "code",
      "metadata": {
        "colab": {
          "base_uri": "https://localhost:8080/"
        },
        "id": "tZ3AirHuOvFW",
        "outputId": "5fc3c9ad-2ea4-4e77-a9df-8fb4eeac41e2"
      },
      "source": [
        "# traiing the model\n",
        "model = Models.Sequential()\n",
        "\n",
        "model.add(Layers.Conv2D(256,kernel_size=(3,3),activation='relu',input_shape=(150,150,3)))\n",
        "model.add(Layers.Conv2D(180,kernel_size=(3,3),activation='relu'))\n",
        "model.add(Layers.MaxPool2D(5,5))\n",
        "model.add(Layers.Conv2D(180,kernel_size=(3,3),activation='relu'))\n",
        "model.add(Layers.Conv2D(140,kernel_size=(3,3),activation='relu'))\n",
        "model.add(Layers.Conv2D(100,kernel_size=(3,3),activation='relu'))\n",
        "model.add(Layers.Conv2D(50,kernel_size=(3,3),activation='relu'))\n",
        "model.add(Layers.MaxPool2D(5,5))\n",
        "model.add(Layers.Flatten())\n",
        "model.add(Layers.Dense(180,activation='relu'))\n",
        "model.add(Layers.Dense(100,activation='relu'))\n",
        "model.add(Layers.Dense(50,activation='relu'))\n",
        "model.add(Layers.Dropout(rate=0.4))\n",
        "# model.add(Layers.Dropout(rate=0.4))\n",
        "\n",
        "model.add(Layers.Dense(3,activation='softmax'))\n",
        "\n",
        "model.compile(optimizer=Optimizer.Adam(lr=0.0001),loss='sparse_categorical_crossentropy',metrics=['accuracy'])\n",
        "\n",
        "model.summary()\n"
      ],
      "execution_count": null,
      "outputs": [
        {
          "output_type": "stream",
          "text": [
            "Model: \"sequential\"\n",
            "_________________________________________________________________\n",
            "Layer (type)                 Output Shape              Param #   \n",
            "=================================================================\n",
            "conv2d (Conv2D)              (None, 148, 148, 256)     7168      \n",
            "_________________________________________________________________\n",
            "conv2d_1 (Conv2D)            (None, 146, 146, 180)     414900    \n",
            "_________________________________________________________________\n",
            "max_pooling2d (MaxPooling2D) (None, 29, 29, 180)       0         \n",
            "_________________________________________________________________\n",
            "conv2d_2 (Conv2D)            (None, 27, 27, 180)       291780    \n",
            "_________________________________________________________________\n",
            "conv2d_3 (Conv2D)            (None, 25, 25, 140)       226940    \n",
            "_________________________________________________________________\n",
            "conv2d_4 (Conv2D)            (None, 23, 23, 100)       126100    \n",
            "_________________________________________________________________\n",
            "conv2d_5 (Conv2D)            (None, 21, 21, 50)        45050     \n",
            "_________________________________________________________________\n",
            "max_pooling2d_1 (MaxPooling2 (None, 4, 4, 50)          0         \n",
            "_________________________________________________________________\n",
            "flatten (Flatten)            (None, 800)               0         \n",
            "_________________________________________________________________\n",
            "dense (Dense)                (None, 180)               144180    \n",
            "_________________________________________________________________\n",
            "dense_1 (Dense)              (None, 100)               18100     \n",
            "_________________________________________________________________\n",
            "dense_2 (Dense)              (None, 50)                5050      \n",
            "_________________________________________________________________\n",
            "dropout (Dropout)            (None, 50)                0         \n",
            "_________________________________________________________________\n",
            "dense_3 (Dense)              (None, 3)                 153       \n",
            "=================================================================\n",
            "Total params: 1,279,421\n",
            "Trainable params: 1,279,421\n",
            "Non-trainable params: 0\n",
            "_________________________________________________________________\n"
          ],
          "name": "stdout"
        },
        {
          "output_type": "stream",
          "text": [
            "/usr/local/lib/python3.7/dist-packages/tensorflow/python/keras/optimizer_v2/optimizer_v2.py:375: UserWarning: The `lr` argument is deprecated, use `learning_rate` instead.\n",
            "  \"The `lr` argument is deprecated, use `learning_rate` instead.\")\n"
          ],
          "name": "stderr"
        }
      ]
    },
    {
      "cell_type": "code",
      "metadata": {
        "colab": {
          "base_uri": "https://localhost:8080/"
        },
        "id": "kH-O7LwsOy_a",
        "outputId": "24c6e891-bc36-43e5-afdb-7d2e7d556dcb"
      },
      "source": [
        "trained = model.fit(Images,Labels,epochs=40,validation_split=0.30)\n"
      ],
      "execution_count": null,
      "outputs": [
        {
          "output_type": "stream",
          "text": [
            "Epoch 1/40\n",
            "19/19 [==============================] - 36s 242ms/step - loss: 1.6835 - accuracy: 0.3638 - val_loss: 1.1105 - val_accuracy: 0.3707\n",
            "Epoch 2/40\n",
            "19/19 [==============================] - 3s 145ms/step - loss: 1.1397 - accuracy: 0.3887 - val_loss: 1.0445 - val_accuracy: 0.4208\n",
            "Epoch 3/40\n",
            "19/19 [==============================] - 3s 146ms/step - loss: 1.0706 - accuracy: 0.4302 - val_loss: 1.0101 - val_accuracy: 0.4479\n",
            "Epoch 4/40\n",
            "19/19 [==============================] - 3s 144ms/step - loss: 1.0235 - accuracy: 0.5050 - val_loss: 1.0449 - val_accuracy: 0.3822\n",
            "Epoch 5/40\n",
            "19/19 [==============================] - 3s 145ms/step - loss: 1.0203 - accuracy: 0.4668 - val_loss: 0.9395 - val_accuracy: 0.5560\n",
            "Epoch 6/40\n",
            "19/19 [==============================] - 3s 145ms/step - loss: 0.9212 - accuracy: 0.5681 - val_loss: 0.7708 - val_accuracy: 0.6988\n",
            "Epoch 7/40\n",
            "19/19 [==============================] - 3s 145ms/step - loss: 0.7752 - accuracy: 0.6827 - val_loss: 0.6625 - val_accuracy: 0.7799\n",
            "Epoch 8/40\n",
            "19/19 [==============================] - 3s 145ms/step - loss: 0.6984 - accuracy: 0.7143 - val_loss: 0.6065 - val_accuracy: 0.7876\n",
            "Epoch 9/40\n",
            "19/19 [==============================] - 3s 145ms/step - loss: 0.6033 - accuracy: 0.7542 - val_loss: 0.5014 - val_accuracy: 0.7954\n",
            "Epoch 10/40\n",
            "19/19 [==============================] - 3s 146ms/step - loss: 0.5226 - accuracy: 0.7940 - val_loss: 0.3975 - val_accuracy: 0.8263\n",
            "Epoch 11/40\n",
            "19/19 [==============================] - 3s 146ms/step - loss: 0.6143 - accuracy: 0.7542 - val_loss: 0.5187 - val_accuracy: 0.8069\n",
            "Epoch 12/40\n",
            "19/19 [==============================] - 3s 146ms/step - loss: 0.5282 - accuracy: 0.8023 - val_loss: 0.4333 - val_accuracy: 0.8263\n",
            "Epoch 13/40\n",
            "19/19 [==============================] - 3s 146ms/step - loss: 0.3879 - accuracy: 0.8488 - val_loss: 0.3590 - val_accuracy: 0.8726\n",
            "Epoch 14/40\n",
            "19/19 [==============================] - 3s 146ms/step - loss: 0.3688 - accuracy: 0.8671 - val_loss: 0.3175 - val_accuracy: 0.8726\n",
            "Epoch 15/40\n",
            "19/19 [==============================] - 3s 145ms/step - loss: 0.3304 - accuracy: 0.8704 - val_loss: 0.4196 - val_accuracy: 0.8340\n",
            "Epoch 16/40\n",
            "19/19 [==============================] - 3s 146ms/step - loss: 0.3544 - accuracy: 0.8671 - val_loss: 0.3297 - val_accuracy: 0.8610\n",
            "Epoch 17/40\n",
            "19/19 [==============================] - 3s 147ms/step - loss: 0.2495 - accuracy: 0.9037 - val_loss: 0.2439 - val_accuracy: 0.8880\n",
            "Epoch 18/40\n",
            "19/19 [==============================] - 3s 146ms/step - loss: 0.2116 - accuracy: 0.9352 - val_loss: 0.2418 - val_accuracy: 0.8958\n",
            "Epoch 19/40\n",
            "19/19 [==============================] - 3s 145ms/step - loss: 0.1614 - accuracy: 0.9485 - val_loss: 0.2311 - val_accuracy: 0.9266\n",
            "Epoch 20/40\n",
            "19/19 [==============================] - 3s 146ms/step - loss: 0.1407 - accuracy: 0.9568 - val_loss: 0.3117 - val_accuracy: 0.8880\n",
            "Epoch 21/40\n",
            "19/19 [==============================] - 3s 144ms/step - loss: 0.1694 - accuracy: 0.9286 - val_loss: 0.2929 - val_accuracy: 0.8726\n",
            "Epoch 22/40\n",
            "19/19 [==============================] - 3s 146ms/step - loss: 0.1440 - accuracy: 0.9485 - val_loss: 0.2088 - val_accuracy: 0.9073\n",
            "Epoch 23/40\n",
            "19/19 [==============================] - 3s 146ms/step - loss: 0.1120 - accuracy: 0.9718 - val_loss: 0.2205 - val_accuracy: 0.9151\n",
            "Epoch 24/40\n",
            "19/19 [==============================] - 3s 145ms/step - loss: 0.0942 - accuracy: 0.9668 - val_loss: 0.2094 - val_accuracy: 0.9073\n",
            "Epoch 25/40\n",
            "19/19 [==============================] - 3s 145ms/step - loss: 0.0703 - accuracy: 0.9817 - val_loss: 0.1977 - val_accuracy: 0.9266\n",
            "Epoch 26/40\n",
            "19/19 [==============================] - 3s 147ms/step - loss: 0.0588 - accuracy: 0.9801 - val_loss: 0.1872 - val_accuracy: 0.9344\n",
            "Epoch 27/40\n",
            "19/19 [==============================] - 3s 145ms/step - loss: 0.0689 - accuracy: 0.9718 - val_loss: 0.2363 - val_accuracy: 0.9189\n",
            "Epoch 28/40\n",
            "19/19 [==============================] - 3s 147ms/step - loss: 0.0746 - accuracy: 0.9701 - val_loss: 0.2037 - val_accuracy: 0.9189\n",
            "Epoch 29/40\n",
            "19/19 [==============================] - 3s 145ms/step - loss: 0.0540 - accuracy: 0.9801 - val_loss: 0.3136 - val_accuracy: 0.8880\n",
            "Epoch 30/40\n",
            "19/19 [==============================] - 3s 145ms/step - loss: 0.0730 - accuracy: 0.9784 - val_loss: 0.2169 - val_accuracy: 0.9189\n",
            "Epoch 31/40\n",
            "19/19 [==============================] - 3s 147ms/step - loss: 0.0760 - accuracy: 0.9718 - val_loss: 0.2238 - val_accuracy: 0.9035\n",
            "Epoch 32/40\n",
            "19/19 [==============================] - 3s 145ms/step - loss: 0.0590 - accuracy: 0.9801 - val_loss: 0.2669 - val_accuracy: 0.9151\n",
            "Epoch 33/40\n",
            "19/19 [==============================] - 3s 147ms/step - loss: 0.0442 - accuracy: 0.9801 - val_loss: 0.2994 - val_accuracy: 0.9035\n",
            "Epoch 34/40\n",
            "19/19 [==============================] - 3s 146ms/step - loss: 0.0472 - accuracy: 0.9834 - val_loss: 0.2233 - val_accuracy: 0.9112\n",
            "Epoch 35/40\n",
            "19/19 [==============================] - 3s 145ms/step - loss: 0.0356 - accuracy: 0.9884 - val_loss: 0.2441 - val_accuracy: 0.9151\n",
            "Epoch 36/40\n",
            "19/19 [==============================] - 3s 144ms/step - loss: 0.0285 - accuracy: 0.9917 - val_loss: 0.2302 - val_accuracy: 0.9344\n",
            "Epoch 37/40\n",
            "19/19 [==============================] - 3s 146ms/step - loss: 0.0490 - accuracy: 0.9817 - val_loss: 0.3441 - val_accuracy: 0.9035\n",
            "Epoch 38/40\n",
            "19/19 [==============================] - 3s 145ms/step - loss: 0.0374 - accuracy: 0.9834 - val_loss: 0.2149 - val_accuracy: 0.9266\n",
            "Epoch 39/40\n",
            "19/19 [==============================] - 3s 145ms/step - loss: 0.0484 - accuracy: 0.9817 - val_loss: 0.3384 - val_accuracy: 0.8958\n",
            "Epoch 40/40\n",
            "19/19 [==============================] - 3s 146ms/step - loss: 0.0729 - accuracy: 0.9784 - val_loss: 0.2413 - val_accuracy: 0.9151\n"
          ],
          "name": "stdout"
        }
      ]
    },
    {
      "cell_type": "code",
      "metadata": {
        "colab": {
          "base_uri": "https://localhost:8080/",
          "height": 17
        },
        "id": "N3hahHfZPFXA",
        "outputId": "2e55095a-5a72-4e43-e3c5-4152b45abfdf"
      },
      "source": [
        "# for  web app to save the model for further use\n",
        "from google.colab import files\n",
        "\n",
        "model.save('final.h5')\n",
        "files.download('final.h5')\n",
        "\n",
        "\n",
        "\n",
        "\n",
        "\n",
        "#\n"
      ],
      "execution_count": null,
      "outputs": [
        {
          "output_type": "display_data",
          "data": {
            "application/javascript": [
              "\n",
              "    async function download(id, filename, size) {\n",
              "      if (!google.colab.kernel.accessAllowed) {\n",
              "        return;\n",
              "      }\n",
              "      const div = document.createElement('div');\n",
              "      const label = document.createElement('label');\n",
              "      label.textContent = `Downloading \"${filename}\": `;\n",
              "      div.appendChild(label);\n",
              "      const progress = document.createElement('progress');\n",
              "      progress.max = size;\n",
              "      div.appendChild(progress);\n",
              "      document.body.appendChild(div);\n",
              "\n",
              "      const buffers = [];\n",
              "      let downloaded = 0;\n",
              "\n",
              "      const channel = await google.colab.kernel.comms.open(id);\n",
              "      // Send a message to notify the kernel that we're ready.\n",
              "      channel.send({})\n",
              "\n",
              "      for await (const message of channel.messages) {\n",
              "        // Send a message to notify the kernel that we're ready.\n",
              "        channel.send({})\n",
              "        if (message.buffers) {\n",
              "          for (const buffer of message.buffers) {\n",
              "            buffers.push(buffer);\n",
              "            downloaded += buffer.byteLength;\n",
              "            progress.value = downloaded;\n",
              "          }\n",
              "        }\n",
              "      }\n",
              "      const blob = new Blob(buffers, {type: 'application/binary'});\n",
              "      const a = document.createElement('a');\n",
              "      a.href = window.URL.createObjectURL(blob);\n",
              "      a.download = filename;\n",
              "      div.appendChild(a);\n",
              "      a.click();\n",
              "      div.remove();\n",
              "    }\n",
              "  "
            ],
            "text/plain": [
              "<IPython.core.display.Javascript object>"
            ]
          },
          "metadata": {
            "tags": []
          }
        },
        {
          "output_type": "display_data",
          "data": {
            "application/javascript": [
              "download(\"download_713f7998-1740-454f-b302-49b92951b92f\", \"final.h5\", 15447424)"
            ],
            "text/plain": [
              "<IPython.core.display.Javascript object>"
            ]
          },
          "metadata": {
            "tags": []
          }
        }
      ]
    },
    {
      "cell_type": "code",
      "metadata": {
        "colab": {
          "base_uri": "https://localhost:8080/"
        },
        "id": "Wl2htwkgSGdG",
        "outputId": "0b72493b-fa78-402e-d2d1-00082b1dfd84"
      },
      "source": [
        "# for mobile android  app\n",
        "model.save('/content/drive/MyDrive/cropped1/final_model1')\n",
        "\n",
        "import tensorflow as tf\n",
        "\n",
        "# Convert the model\n",
        "converter = tf.lite.TFLiteConverter.from_saved_model('/content/drive/MyDrive/cropped1/final_model1') # path to the SavedModel directory\n",
        "tflite_model = converter.convert()\n",
        "\n",
        "# Save the model.\n",
        "with open('/content/drive/MyDrive/cropped1/model.tflite1', 'wb') as f:\n",
        "  f.write(tflite_model)\n",
        "  print('saving')\n",
        "\n"
      ],
      "execution_count": null,
      "outputs": [
        {
          "output_type": "stream",
          "text": [
            "INFO:tensorflow:Assets written to: /content/drive/MyDrive/cropped1/final_model1/assets\n",
            "saving\n"
          ],
          "name": "stdout"
        }
      ]
    },
    {
      "cell_type": "code",
      "metadata": {
        "id": "jzDAL12TTWMf"
      },
      "source": [
        ""
      ],
      "execution_count": null,
      "outputs": []
    }
  ]
}