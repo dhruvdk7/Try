{
  "nbformat": 4,
  "nbformat_minor": 0,
  "metadata": {
    "colab": {
      "name": "datapreprocessing_playflix.ipynb",
      "provenance": [],
      "collapsed_sections": []
    },
    "kernelspec": {
      "name": "python3",
      "display_name": "Python 3"
    },
    "language_info": {
      "name": "python"
    },
    "accelerator": "GPU"
  },
  "cells": [
    {
      "cell_type": "code",
      "metadata": {
        "colab": {
          "base_uri": "https://localhost:8080/"
        },
        "id": "O7RXbR6WWS_B",
        "outputId": "233ad480-45ed-4328-c883-548c330fcd60"
      },
      "source": [
        "\n",
        "# for connecting to google drive !\n",
        "# not required if doing on local pc\n",
        "from google.colab import drive\n",
        "drive.mount('/content/drive')\n",
        "\n",
        "\n"
      ],
      "execution_count": null,
      "outputs": [
        {
          "output_type": "stream",
          "text": [
            "Drive already mounted at /content/drive; to attempt to forcibly remount, call drive.mount(\"/content/drive\", force_remount=True).\n"
          ],
          "name": "stdout"
        }
      ]
    },
    {
      "cell_type": "code",
      "metadata": {
        "id": "5bCMcN9fZhlT"
      },
      "source": [
        "import cv2\n",
        "from google.colab.patches import cv2_imshow\n",
        "# face_cascade for detecting the face from the image\n",
        "#eye cascade for detecting the eye from the face\n",
        "face_cascade=cv2.CascadeClassifier('/content/drive/MyDrive/haarcascade_frontalface_default.xml')\n",
        "eye_cascade=cv2.CascadeClassifier('/content/drive/MyDrive/haarcascade_eye.xml')"
      ],
      "execution_count": null,
      "outputs": []
    },
    {
      "cell_type": "code",
      "metadata": {
        "id": "u7VoS-ZkZlBr"
      },
      "source": [
        "# this function is to detect the face from the image\n",
        "def get_cropped_image_if_2_eyes(image_path):\n",
        "    img = cv2.imread(image_path)\n",
        "    gray = cv2.cvtColor(img, cv2.COLOR_BGR2GRAY)\n",
        "    faces = face_cascade.detectMultiScale(gray, 1.3, 5)\n",
        "    for (x,y,w,h) in faces:\n",
        "        roi_gray = gray[y:y+h, x:x+w]\n",
        "        roi_color = img[y:y+h, x:x+w]\n",
        "        eyes = eye_cascade.detectMultiScale(roi_gray)\n",
        "        return roi_color"
      ],
      "execution_count": null,
      "outputs": []
    },
    {
      "cell_type": "code",
      "metadata": {
        "id": "YEaFsMXDZzmr"
      },
      "source": [
        "path_to_data = \"/content/drive/MyDrive/data1\"\n",
        "# this signifies original data path where the raw dataset of image is present\n",
        "path_to_cr_data = \"/content/drive/MyDrive/data1/cropped\"\n",
        "# this signifies the dataset we will be creating which contain only the face "
      ],
      "execution_count": null,
      "outputs": []
    },
    {
      "cell_type": "code",
      "metadata": {
        "id": "oq-_devpcNzx"
      },
      "source": [
        "# directory folder\n",
        "import os\n",
        "img_dirs = []\n",
        "for entry in os.scandir(path_to_data):\n",
        "    if entry.is_dir():\n",
        "        img_dirs.append(entry.path)"
      ],
      "execution_count": null,
      "outputs": []
    },
    {
      "cell_type": "code",
      "metadata": {
        "colab": {
          "base_uri": "https://localhost:8080/"
        },
        "id": "Thsp4hp7gBod",
        "outputId": "2f20d0e7-00cb-4e95-d9a4-6620418f96a3"
      },
      "source": [
        "\n",
        "img_dirs"
      ],
      "execution_count": null,
      "outputs": [
        {
          "output_type": "execute_result",
          "data": {
            "text/plain": [
              "['/content/drive/MyDrive/data1/viratkohli',\n",
              " '/content/drive/MyDrive/data1/msdhoni',\n",
              " '/content/drive/MyDrive/data1/klrahul']"
            ]
          },
          "metadata": {
            "tags": []
          },
          "execution_count": 6
        }
      ]
    },
    {
      "cell_type": "code",
      "metadata": {
        "id": "DA_RxRaJgEIL"
      },
      "source": [
        "# this will make seprate folder of each type in the dataset folder\n",
        "import shutil\n",
        "if os.path.exists(path_to_cr_data):\n",
        "     shutil.rmtree(path_to_cr_data)\n",
        "os.mkdir(path_to_cr_data)"
      ],
      "execution_count": null,
      "outputs": []
    },
    {
      "cell_type": "code",
      "metadata": {
        "colab": {
          "base_uri": "https://localhost:8080/"
        },
        "id": "kvIycguPgIde",
        "outputId": "68e18a90-b495-49a8-f6f2-0af768a00f74"
      },
      "source": [
        "img_dirs"
      ],
      "execution_count": null,
      "outputs": [
        {
          "output_type": "execute_result",
          "data": {
            "text/plain": [
              "['/content/drive/MyDrive/data1/viratkohli',\n",
              " '/content/drive/MyDrive/data1/msdhoni',\n",
              " '/content/drive/MyDrive/data1/klrahul']"
            ]
          },
          "metadata": {
            "tags": []
          },
          "execution_count": 8
        }
      ]
    },
    {
      "cell_type": "code",
      "metadata": {
        "colab": {
          "base_uri": "https://localhost:8080/"
        },
        "id": "fsBZO1zsgJpW",
        "outputId": "f37a7dd3-b235-4d54-cdf5-066058c5d431"
      },
      "source": [
        "# this will generate cropped image in the folder\n",
        "cropped_image_dirs = []\n",
        "\n",
        "for img_dir in img_dirs:\n",
        "    count = 1\n",
        "    celebrity_name = img_dir.split('/')[-1]\n",
        "   \n",
        "    for entry in os.scandir(img_dir):\n",
        "        roi_color = get_cropped_image_if_2_eyes(entry.path)\n",
        "        if roi_color is not None:\n",
        "            cropped_folder = path_to_cr_data + '/' +celebrity_name\n",
        "            if not os.path.exists(cropped_folder):\n",
        "                os.makedirs(cropped_folder)\n",
        "                cropped_image_dirs.append(cropped_folder)\n",
        "                print(\"Generating cropped images in folder: \",cropped_folder)\n",
        "            cropped_file_name = celebrity_name + str(count) + \".png\"\n",
        "            cropped_file_path = cropped_folder + \"/\" + cropped_file_name\n",
        "            cv2.imwrite(cropped_file_path, roi_color)\n",
        "            count += 1"
      ],
      "execution_count": null,
      "outputs": [
        {
          "output_type": "stream",
          "text": [
            "Generating cropped images in folder:  /content/drive/MyDrive/data1/cropped/viratkohli\n",
            "Generating cropped images in folder:  /content/drive/MyDrive/data1/cropped/msdhoni\n",
            "Generating cropped images in folder:  /content/drive/MyDrive/data1/cropped/klrahul\n"
          ],
          "name": "stdout"
        }
      ]
    },
    {
      "cell_type": "code",
      "metadata": {
        "colab": {
          "base_uri": "https://localhost:8080/"
        },
        "id": "knCm1IS4heO8",
        "outputId": "646a0b0d-a952-4508-df7d-d95e5d03c2d9"
      },
      "source": [
        ""
      ],
      "execution_count": null,
      "outputs": [
        {
          "output_type": "stream",
          "text": [
            "lionel_messi\n",
            "/content/drive/MyDrive/dataset/cropped/lionel_messi\n",
            "Generating cropped images in folder:  /content/drive/MyDrive/dataset/cropped/lionel_messi\n",
            "/content/drive/MyDrive/dataset/cropped/lionel_messi\n",
            "/content/drive/MyDrive/dataset/cropped/lionel_messi\n",
            "/content/drive/MyDrive/dataset/cropped/lionel_messi\n",
            "/content/drive/MyDrive/dataset/cropped/lionel_messi\n",
            "/content/drive/MyDrive/dataset/cropped/lionel_messi\n",
            "/content/drive/MyDrive/dataset/cropped/lionel_messi\n",
            "/content/drive/MyDrive/dataset/cropped/lionel_messi\n",
            "/content/drive/MyDrive/dataset/cropped/lionel_messi\n",
            "/content/drive/MyDrive/dataset/cropped/lionel_messi\n",
            "/content/drive/MyDrive/dataset/cropped/lionel_messi\n",
            "/content/drive/MyDrive/dataset/cropped/lionel_messi\n",
            "/content/drive/MyDrive/dataset/cropped/lionel_messi\n",
            "/content/drive/MyDrive/dataset/cropped/lionel_messi\n",
            "/content/drive/MyDrive/dataset/cropped/lionel_messi\n",
            "/content/drive/MyDrive/dataset/cropped/lionel_messi\n",
            "/content/drive/MyDrive/dataset/cropped/lionel_messi\n",
            "/content/drive/MyDrive/dataset/cropped/lionel_messi\n",
            "/content/drive/MyDrive/dataset/cropped/lionel_messi\n",
            "/content/drive/MyDrive/dataset/cropped/lionel_messi\n",
            "/content/drive/MyDrive/dataset/cropped/lionel_messi\n",
            "/content/drive/MyDrive/dataset/cropped/lionel_messi\n",
            "/content/drive/MyDrive/dataset/cropped/lionel_messi\n",
            "/content/drive/MyDrive/dataset/cropped/lionel_messi\n",
            "/content/drive/MyDrive/dataset/cropped/lionel_messi\n",
            "/content/drive/MyDrive/dataset/cropped/lionel_messi\n",
            "/content/drive/MyDrive/dataset/cropped/lionel_messi\n",
            "/content/drive/MyDrive/dataset/cropped/lionel_messi\n",
            "/content/drive/MyDrive/dataset/cropped/lionel_messi\n",
            "/content/drive/MyDrive/dataset/cropped/lionel_messi\n",
            "/content/drive/MyDrive/dataset/cropped/lionel_messi\n",
            "/content/drive/MyDrive/dataset/cropped/lionel_messi\n",
            "/content/drive/MyDrive/dataset/cropped/lionel_messi\n",
            "/content/drive/MyDrive/dataset/cropped/lionel_messi\n",
            "/content/drive/MyDrive/dataset/cropped/lionel_messi\n",
            "/content/drive/MyDrive/dataset/cropped/lionel_messi\n",
            "/content/drive/MyDrive/dataset/cropped/lionel_messi\n",
            "/content/drive/MyDrive/dataset/cropped/lionel_messi\n",
            "/content/drive/MyDrive/dataset/cropped/lionel_messi\n",
            "maria_sharapova\n",
            "/content/drive/MyDrive/dataset/cropped/maria_sharapova\n",
            "Generating cropped images in folder:  /content/drive/MyDrive/dataset/cropped/maria_sharapova\n",
            "/content/drive/MyDrive/dataset/cropped/maria_sharapova\n",
            "/content/drive/MyDrive/dataset/cropped/maria_sharapova\n",
            "/content/drive/MyDrive/dataset/cropped/maria_sharapova\n",
            "/content/drive/MyDrive/dataset/cropped/maria_sharapova\n",
            "/content/drive/MyDrive/dataset/cropped/maria_sharapova\n",
            "/content/drive/MyDrive/dataset/cropped/maria_sharapova\n",
            "/content/drive/MyDrive/dataset/cropped/maria_sharapova\n",
            "/content/drive/MyDrive/dataset/cropped/maria_sharapova\n",
            "/content/drive/MyDrive/dataset/cropped/maria_sharapova\n",
            "/content/drive/MyDrive/dataset/cropped/maria_sharapova\n",
            "/content/drive/MyDrive/dataset/cropped/maria_sharapova\n",
            "/content/drive/MyDrive/dataset/cropped/maria_sharapova\n",
            "/content/drive/MyDrive/dataset/cropped/maria_sharapova\n",
            "/content/drive/MyDrive/dataset/cropped/maria_sharapova\n",
            "/content/drive/MyDrive/dataset/cropped/maria_sharapova\n",
            "/content/drive/MyDrive/dataset/cropped/maria_sharapova\n",
            "/content/drive/MyDrive/dataset/cropped/maria_sharapova\n",
            "/content/drive/MyDrive/dataset/cropped/maria_sharapova\n",
            "/content/drive/MyDrive/dataset/cropped/maria_sharapova\n",
            "/content/drive/MyDrive/dataset/cropped/maria_sharapova\n",
            "/content/drive/MyDrive/dataset/cropped/maria_sharapova\n",
            "/content/drive/MyDrive/dataset/cropped/maria_sharapova\n",
            "/content/drive/MyDrive/dataset/cropped/maria_sharapova\n",
            "/content/drive/MyDrive/dataset/cropped/maria_sharapova\n",
            "/content/drive/MyDrive/dataset/cropped/maria_sharapova\n",
            "/content/drive/MyDrive/dataset/cropped/maria_sharapova\n",
            "/content/drive/MyDrive/dataset/cropped/maria_sharapova\n",
            "/content/drive/MyDrive/dataset/cropped/maria_sharapova\n",
            "/content/drive/MyDrive/dataset/cropped/maria_sharapova\n",
            "/content/drive/MyDrive/dataset/cropped/maria_sharapova\n",
            "/content/drive/MyDrive/dataset/cropped/maria_sharapova\n",
            "/content/drive/MyDrive/dataset/cropped/maria_sharapova\n",
            "/content/drive/MyDrive/dataset/cropped/maria_sharapova\n",
            "/content/drive/MyDrive/dataset/cropped/maria_sharapova\n",
            "roger_federer\n",
            "/content/drive/MyDrive/dataset/cropped/roger_federer\n",
            "Generating cropped images in folder:  /content/drive/MyDrive/dataset/cropped/roger_federer\n",
            "/content/drive/MyDrive/dataset/cropped/roger_federer\n",
            "/content/drive/MyDrive/dataset/cropped/roger_federer\n",
            "/content/drive/MyDrive/dataset/cropped/roger_federer\n",
            "/content/drive/MyDrive/dataset/cropped/roger_federer\n",
            "/content/drive/MyDrive/dataset/cropped/roger_federer\n",
            "/content/drive/MyDrive/dataset/cropped/roger_federer\n",
            "/content/drive/MyDrive/dataset/cropped/roger_federer\n",
            "/content/drive/MyDrive/dataset/cropped/roger_federer\n",
            "/content/drive/MyDrive/dataset/cropped/roger_federer\n",
            "/content/drive/MyDrive/dataset/cropped/roger_federer\n",
            "/content/drive/MyDrive/dataset/cropped/roger_federer\n",
            "/content/drive/MyDrive/dataset/cropped/roger_federer\n",
            "/content/drive/MyDrive/dataset/cropped/roger_federer\n",
            "/content/drive/MyDrive/dataset/cropped/roger_federer\n",
            "/content/drive/MyDrive/dataset/cropped/roger_federer\n",
            "/content/drive/MyDrive/dataset/cropped/roger_federer\n",
            "/content/drive/MyDrive/dataset/cropped/roger_federer\n",
            "/content/drive/MyDrive/dataset/cropped/roger_federer\n",
            "/content/drive/MyDrive/dataset/cropped/roger_federer\n",
            "/content/drive/MyDrive/dataset/cropped/roger_federer\n",
            "/content/drive/MyDrive/dataset/cropped/roger_federer\n",
            "/content/drive/MyDrive/dataset/cropped/roger_federer\n",
            "/content/drive/MyDrive/dataset/cropped/roger_federer\n",
            "/content/drive/MyDrive/dataset/cropped/roger_federer\n",
            "/content/drive/MyDrive/dataset/cropped/roger_federer\n",
            "/content/drive/MyDrive/dataset/cropped/roger_federer\n",
            "/content/drive/MyDrive/dataset/cropped/roger_federer\n",
            "/content/drive/MyDrive/dataset/cropped/roger_federer\n",
            "/content/drive/MyDrive/dataset/cropped/roger_federer\n",
            "serena_williams\n",
            "/content/drive/MyDrive/dataset/cropped/serena_williams\n",
            "Generating cropped images in folder:  /content/drive/MyDrive/dataset/cropped/serena_williams\n",
            "/content/drive/MyDrive/dataset/cropped/serena_williams\n",
            "/content/drive/MyDrive/dataset/cropped/serena_williams\n",
            "/content/drive/MyDrive/dataset/cropped/serena_williams\n",
            "/content/drive/MyDrive/dataset/cropped/serena_williams\n",
            "/content/drive/MyDrive/dataset/cropped/serena_williams\n",
            "/content/drive/MyDrive/dataset/cropped/serena_williams\n",
            "/content/drive/MyDrive/dataset/cropped/serena_williams\n",
            "/content/drive/MyDrive/dataset/cropped/serena_williams\n",
            "/content/drive/MyDrive/dataset/cropped/serena_williams\n",
            "/content/drive/MyDrive/dataset/cropped/serena_williams\n",
            "/content/drive/MyDrive/dataset/cropped/serena_williams\n",
            "/content/drive/MyDrive/dataset/cropped/serena_williams\n",
            "/content/drive/MyDrive/dataset/cropped/serena_williams\n",
            "/content/drive/MyDrive/dataset/cropped/serena_williams\n",
            "/content/drive/MyDrive/dataset/cropped/serena_williams\n",
            "/content/drive/MyDrive/dataset/cropped/serena_williams\n",
            "/content/drive/MyDrive/dataset/cropped/serena_williams\n",
            "/content/drive/MyDrive/dataset/cropped/serena_williams\n",
            "virat_kohli\n",
            "/content/drive/MyDrive/dataset/cropped/virat_kohli\n",
            "Generating cropped images in folder:  /content/drive/MyDrive/dataset/cropped/virat_kohli\n",
            "/content/drive/MyDrive/dataset/cropped/virat_kohli\n",
            "/content/drive/MyDrive/dataset/cropped/virat_kohli\n",
            "/content/drive/MyDrive/dataset/cropped/virat_kohli\n",
            "/content/drive/MyDrive/dataset/cropped/virat_kohli\n",
            "/content/drive/MyDrive/dataset/cropped/virat_kohli\n",
            "/content/drive/MyDrive/dataset/cropped/virat_kohli\n",
            "/content/drive/MyDrive/dataset/cropped/virat_kohli\n",
            "/content/drive/MyDrive/dataset/cropped/virat_kohli\n",
            "/content/drive/MyDrive/dataset/cropped/virat_kohli\n",
            "/content/drive/MyDrive/dataset/cropped/virat_kohli\n",
            "/content/drive/MyDrive/dataset/cropped/virat_kohli\n",
            "/content/drive/MyDrive/dataset/cropped/virat_kohli\n",
            "/content/drive/MyDrive/dataset/cropped/virat_kohli\n",
            "/content/drive/MyDrive/dataset/cropped/virat_kohli\n",
            "/content/drive/MyDrive/dataset/cropped/virat_kohli\n",
            "/content/drive/MyDrive/dataset/cropped/virat_kohli\n",
            "/content/drive/MyDrive/dataset/cropped/virat_kohli\n",
            "/content/drive/MyDrive/dataset/cropped/virat_kohli\n",
            "/content/drive/MyDrive/dataset/cropped/virat_kohli\n",
            "/content/drive/MyDrive/dataset/cropped/virat_kohli\n",
            "/content/drive/MyDrive/dataset/cropped/virat_kohli\n",
            "/content/drive/MyDrive/dataset/cropped/virat_kohli\n",
            "/content/drive/MyDrive/dataset/cropped/virat_kohli\n",
            "/content/drive/MyDrive/dataset/cropped/virat_kohli\n",
            "/content/drive/MyDrive/dataset/cropped/virat_kohli\n",
            "/content/drive/MyDrive/dataset/cropped/virat_kohli\n",
            "/content/drive/MyDrive/dataset/cropped/virat_kohli\n",
            "/content/drive/MyDrive/dataset/cropped/virat_kohli\n",
            "/content/drive/MyDrive/dataset/cropped/virat_kohli\n",
            "/content/drive/MyDrive/dataset/cropped/virat_kohli\n",
            "/content/drive/MyDrive/dataset/cropped/virat_kohli\n",
            "/content/drive/MyDrive/dataset/cropped/virat_kohli\n",
            "/content/drive/MyDrive/dataset/cropped/virat_kohli\n",
            "/content/drive/MyDrive/dataset/cropped/virat_kohli\n",
            "/content/drive/MyDrive/dataset/cropped/virat_kohli\n",
            "/content/drive/MyDrive/dataset/cropped/virat_kohli\n",
            "/content/drive/MyDrive/dataset/cropped/virat_kohli\n",
            "/content/drive/MyDrive/dataset/cropped/virat_kohli\n",
            "/content/drive/MyDrive/dataset/cropped/virat_kohli\n",
            "/content/drive/MyDrive/dataset/cropped/virat_kohli\n",
            "/content/drive/MyDrive/dataset/cropped/virat_kohli\n",
            "/content/drive/MyDrive/dataset/cropped/virat_kohli\n",
            "/content/drive/MyDrive/dataset/cropped/virat_kohli\n",
            "/content/drive/MyDrive/dataset/cropped/virat_kohli\n",
            "/content/drive/MyDrive/dataset/cropped/virat_kohli\n",
            "/content/drive/MyDrive/dataset/cropped/virat_kohli\n",
            "/content/drive/MyDrive/dataset/cropped/virat_kohli\n"
          ],
          "name": "stdout"
        }
      ]
    },
    {
      "cell_type": "code",
      "metadata": {
        "id": "JBjSe_jyo_pH"
      },
      "source": [
        ""
      ],
      "execution_count": null,
      "outputs": []
    },
    {
      "cell_type": "code",
      "metadata": {
        "colab": {
          "base_uri": "https://localhost:8080/"
        },
        "id": "mc34X_f_hMeo",
        "outputId": "740487d6-66d3-4444-d053-18a7b92c97f2"
      },
      "source": [
        ""
      ],
      "execution_count": null,
      "outputs": [
        {
          "output_type": "stream",
          "text": [
            "['lionel_messi', 'maria_sharapova', 'roger_federer', 'serena_williams', 'virat_kohli']\n"
          ],
          "name": "stdout"
        },
        {
          "output_type": "execute_result",
          "data": {
            "text/plain": [
              "5"
            ]
          },
          "metadata": {
            "tags": []
          },
          "execution_count": 5
        }
      ]
    },
    {
      "cell_type": "code",
      "metadata": {
        "id": "OOTZOny0kavt"
      },
      "source": [
        ""
      ],
      "execution_count": null,
      "outputs": []
    },
    {
      "cell_type": "code",
      "metadata": {
        "id": "-Bma1TMxopn-"
      },
      "source": [
        ""
      ],
      "execution_count": null,
      "outputs": []
    },
    {
      "cell_type": "code",
      "metadata": {
        "colab": {
          "base_uri": "https://localhost:8080/"
        },
        "id": "ICveePpIox7T",
        "outputId": "8c1dd22e-bfaf-422e-a849-da24d3f0f976"
      },
      "source": [
        ""
      ],
      "execution_count": null,
      "outputs": [
        {
          "output_type": "stream",
          "text": [
            "Shape of Images: (161, 150, 150, 3)\n",
            "Shape of Labels: (161,)\n"
          ],
          "name": "stdout"
        }
      ]
    },
    {
      "cell_type": "code",
      "metadata": {
        "id": "rbp8nTGDpIwX"
      },
      "source": [
        ""
      ],
      "execution_count": null,
      "outputs": []
    }
  ]
}